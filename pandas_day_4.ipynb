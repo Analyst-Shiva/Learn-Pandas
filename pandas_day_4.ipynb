{
 "cells": [
  {
   "cell_type": "markdown",
   "metadata": {
    "id": "vbBnPGyZkbtk"
   },
   "source": [
    "##### import the Diamond dataset"
   ]
  },
  {
   "cell_type": "code",
   "execution_count": 1,
   "metadata": {},
   "outputs": [
    {
     "ename": "NameError",
     "evalue": "name 'df' is not defined",
     "output_type": "error",
     "traceback": [
      "\u001b[1;31m---------------------------------------------------------------------------\u001b[0m",
      "\u001b[1;31mNameError\u001b[0m                                 Traceback (most recent call last)",
      "Cell \u001b[1;32mIn[1], line 7\u001b[0m\n\u001b[0;32m      4\u001b[0m diamonds_df \u001b[38;5;241m=\u001b[39m pd\u001b[38;5;241m.\u001b[39mread_csv(\u001b[38;5;124m'\u001b[39m\u001b[38;5;124mdiamonds.csv\u001b[39m\u001b[38;5;124m'\u001b[39m)\n\u001b[0;32m      6\u001b[0m \u001b[38;5;66;03m# Display the first few rows of the DataFrame\u001b[39;00m\n\u001b[1;32m----> 7\u001b[0m df\u001b[38;5;241m.\u001b[39mhead()\n",
      "\u001b[1;31mNameError\u001b[0m: name 'df' is not defined"
     ]
    }
   ],
   "source": [
    "import pandas as pd\n",
    "import numpy as np\n",
    "# Load the Diamonds dataset from CSV file\n",
    "diamonds_df = pd.read_csv('diamonds.csv')\n",
    "\n",
    "# Display the first few rows of the DataFrame\n",
    "df.head()"
   ]
  },
  {
   "cell_type": "markdown",
   "metadata": {
    "id": "0gLkJdTUlFsD"
   },
   "source": [
    "###### 1. Write a Pandas program to find the number of rows and columns and data type of each column of diamonds Dataframe."
   ]
  },
  {
   "cell_type": "code",
   "execution_count": null,
   "metadata": {
    "id": "9TQb1fhrHKGZ"
   },
   "outputs": [],
   "source": [
    "# Get the number of rows and columns\n",
    "num_rows, num_columns = diamonds_df.shape\n",
    "\n",
    "# Get data types of each column\n",
    "data_types = diamonds_df.dtypes\n",
    "\n",
    "# Display the results\n",
    "print(\"Number of Rows:\", num_rows)\n",
    "print(\"Number of Columns:\", num_columns)\n",
    "print(\"\\nData Types of Each Column:\")\n",
    "print(data_types)"
   ]
  },
  {
   "cell_type": "markdown",
   "metadata": {
    "id": "2hCsz2QLmdFK"
   },
   "source": [
    "##### 2. Write a Pandas program to summarize only 'object' columns of the diamonds Dataframe."
   ]
  },
  {
   "cell_type": "code",
   "execution_count": null,
   "metadata": {
    "id": "yidnCTpKmcSV"
   },
   "outputs": [],
   "source": [
    "# Summarize only 'object' columns\n",
    "object_columns_summary = diamonds_df.describe(include='object')\n",
    "\n",
    "# Display the summary\n",
    "print(object_columns_summary)"
   ]
  },
  {
   "cell_type": "markdown",
   "metadata": {
    "id": "MSQBTbT4mmOT"
   },
   "source": [
    "###### 3. Write a Pandas program to remove the second column of the diamonds Dataframe. (don't use original dataset)"
   ]
  },
  {
   "cell_type": "code",
   "execution_count": 2,
   "metadata": {
    "id": "-KnxM5wZmcU9"
   },
   "outputs": [
    {
     "data": {
      "text/html": [
       "<div>\n",
       "<style scoped>\n",
       "    .dataframe tbody tr th:only-of-type {\n",
       "        vertical-align: middle;\n",
       "    }\n",
       "\n",
       "    .dataframe tbody tr th {\n",
       "        vertical-align: top;\n",
       "    }\n",
       "\n",
       "    .dataframe thead th {\n",
       "        text-align: right;\n",
       "    }\n",
       "</style>\n",
       "<table border=\"1\" class=\"dataframe\">\n",
       "  <thead>\n",
       "    <tr style=\"text-align: right;\">\n",
       "      <th></th>\n",
       "      <th>Unnamed: 0</th>\n",
       "      <th>cut</th>\n",
       "      <th>color</th>\n",
       "      <th>clarity</th>\n",
       "      <th>depth</th>\n",
       "      <th>table</th>\n",
       "      <th>price</th>\n",
       "      <th>x</th>\n",
       "      <th>y</th>\n",
       "      <th>z</th>\n",
       "    </tr>\n",
       "  </thead>\n",
       "  <tbody>\n",
       "    <tr>\n",
       "      <th>0</th>\n",
       "      <td>1</td>\n",
       "      <td>Ideal</td>\n",
       "      <td>E</td>\n",
       "      <td>SI2</td>\n",
       "      <td>61.5</td>\n",
       "      <td>55.0</td>\n",
       "      <td>326</td>\n",
       "      <td>3.95</td>\n",
       "      <td>3.98</td>\n",
       "      <td>2.43</td>\n",
       "    </tr>\n",
       "    <tr>\n",
       "      <th>1</th>\n",
       "      <td>2</td>\n",
       "      <td>Premium</td>\n",
       "      <td>E</td>\n",
       "      <td>SI1</td>\n",
       "      <td>59.8</td>\n",
       "      <td>61.0</td>\n",
       "      <td>326</td>\n",
       "      <td>3.89</td>\n",
       "      <td>3.84</td>\n",
       "      <td>2.31</td>\n",
       "    </tr>\n",
       "    <tr>\n",
       "      <th>2</th>\n",
       "      <td>3</td>\n",
       "      <td>Good</td>\n",
       "      <td>E</td>\n",
       "      <td>VS1</td>\n",
       "      <td>56.9</td>\n",
       "      <td>65.0</td>\n",
       "      <td>327</td>\n",
       "      <td>4.05</td>\n",
       "      <td>4.07</td>\n",
       "      <td>2.31</td>\n",
       "    </tr>\n",
       "    <tr>\n",
       "      <th>3</th>\n",
       "      <td>4</td>\n",
       "      <td>Premium</td>\n",
       "      <td>I</td>\n",
       "      <td>VS2</td>\n",
       "      <td>62.4</td>\n",
       "      <td>58.0</td>\n",
       "      <td>334</td>\n",
       "      <td>4.20</td>\n",
       "      <td>4.23</td>\n",
       "      <td>2.63</td>\n",
       "    </tr>\n",
       "    <tr>\n",
       "      <th>4</th>\n",
       "      <td>5</td>\n",
       "      <td>Good</td>\n",
       "      <td>J</td>\n",
       "      <td>SI2</td>\n",
       "      <td>63.3</td>\n",
       "      <td>58.0</td>\n",
       "      <td>335</td>\n",
       "      <td>4.34</td>\n",
       "      <td>4.35</td>\n",
       "      <td>2.75</td>\n",
       "    </tr>\n",
       "    <tr>\n",
       "      <th>...</th>\n",
       "      <td>...</td>\n",
       "      <td>...</td>\n",
       "      <td>...</td>\n",
       "      <td>...</td>\n",
       "      <td>...</td>\n",
       "      <td>...</td>\n",
       "      <td>...</td>\n",
       "      <td>...</td>\n",
       "      <td>...</td>\n",
       "      <td>...</td>\n",
       "    </tr>\n",
       "    <tr>\n",
       "      <th>53935</th>\n",
       "      <td>53936</td>\n",
       "      <td>Ideal</td>\n",
       "      <td>D</td>\n",
       "      <td>SI1</td>\n",
       "      <td>60.8</td>\n",
       "      <td>57.0</td>\n",
       "      <td>2757</td>\n",
       "      <td>5.75</td>\n",
       "      <td>5.76</td>\n",
       "      <td>3.50</td>\n",
       "    </tr>\n",
       "    <tr>\n",
       "      <th>53936</th>\n",
       "      <td>53937</td>\n",
       "      <td>Good</td>\n",
       "      <td>D</td>\n",
       "      <td>SI1</td>\n",
       "      <td>63.1</td>\n",
       "      <td>55.0</td>\n",
       "      <td>2757</td>\n",
       "      <td>5.69</td>\n",
       "      <td>5.75</td>\n",
       "      <td>3.61</td>\n",
       "    </tr>\n",
       "    <tr>\n",
       "      <th>53937</th>\n",
       "      <td>53938</td>\n",
       "      <td>Very Good</td>\n",
       "      <td>D</td>\n",
       "      <td>SI1</td>\n",
       "      <td>62.8</td>\n",
       "      <td>60.0</td>\n",
       "      <td>2757</td>\n",
       "      <td>5.66</td>\n",
       "      <td>5.68</td>\n",
       "      <td>3.56</td>\n",
       "    </tr>\n",
       "    <tr>\n",
       "      <th>53938</th>\n",
       "      <td>53939</td>\n",
       "      <td>Premium</td>\n",
       "      <td>H</td>\n",
       "      <td>SI2</td>\n",
       "      <td>61.0</td>\n",
       "      <td>58.0</td>\n",
       "      <td>2757</td>\n",
       "      <td>6.15</td>\n",
       "      <td>6.12</td>\n",
       "      <td>3.74</td>\n",
       "    </tr>\n",
       "    <tr>\n",
       "      <th>53939</th>\n",
       "      <td>53940</td>\n",
       "      <td>Ideal</td>\n",
       "      <td>D</td>\n",
       "      <td>SI2</td>\n",
       "      <td>62.2</td>\n",
       "      <td>55.0</td>\n",
       "      <td>2757</td>\n",
       "      <td>5.83</td>\n",
       "      <td>5.87</td>\n",
       "      <td>3.64</td>\n",
       "    </tr>\n",
       "  </tbody>\n",
       "</table>\n",
       "<p>53940 rows × 10 columns</p>\n",
       "</div>"
      ],
      "text/plain": [
       "       Unnamed: 0        cut color clarity  depth  table  price     x     y  \\\n",
       "0               1      Ideal     E     SI2   61.5   55.0    326  3.95  3.98   \n",
       "1               2    Premium     E     SI1   59.8   61.0    326  3.89  3.84   \n",
       "2               3       Good     E     VS1   56.9   65.0    327  4.05  4.07   \n",
       "3               4    Premium     I     VS2   62.4   58.0    334  4.20  4.23   \n",
       "4               5       Good     J     SI2   63.3   58.0    335  4.34  4.35   \n",
       "...           ...        ...   ...     ...    ...    ...    ...   ...   ...   \n",
       "53935       53936      Ideal     D     SI1   60.8   57.0   2757  5.75  5.76   \n",
       "53936       53937       Good     D     SI1   63.1   55.0   2757  5.69  5.75   \n",
       "53937       53938  Very Good     D     SI1   62.8   60.0   2757  5.66  5.68   \n",
       "53938       53939    Premium     H     SI2   61.0   58.0   2757  6.15  6.12   \n",
       "53939       53940      Ideal     D     SI2   62.2   55.0   2757  5.83  5.87   \n",
       "\n",
       "          z  \n",
       "0      2.43  \n",
       "1      2.31  \n",
       "2      2.31  \n",
       "3      2.63  \n",
       "4      2.75  \n",
       "...     ...  \n",
       "53935  3.50  \n",
       "53936  3.61  \n",
       "53937  3.56  \n",
       "53938  3.74  \n",
       "53939  3.64  \n",
       "\n",
       "[53940 rows x 10 columns]"
      ]
     },
     "execution_count": 2,
     "metadata": {},
     "output_type": "execute_result"
    }
   ],
   "source": [
    "# Remove the second column ('carat')\n",
    "diamonds_df = diamonds_df.drop(diamonds_df.columns[1], axis=1)\n",
    "\n",
    "# Display the updated DataFrame\n",
    "diamonds_df"
   ]
  },
  {
   "cell_type": "markdown",
   "metadata": {
    "id": "ueDcExq4m76F"
   },
   "source": [
    "###### 4. Write a Pandas program to remove multiple rows at once (axis=0 refers to rows) from diamonds dataframe. (dont use original dataset)"
   ]
  },
  {
   "cell_type": "code",
   "execution_count": 3,
   "metadata": {
    "id": "R5UWSmb8mcXd"
   },
   "outputs": [
    {
     "data": {
      "text/html": [
       "<div>\n",
       "<style scoped>\n",
       "    .dataframe tbody tr th:only-of-type {\n",
       "        vertical-align: middle;\n",
       "    }\n",
       "\n",
       "    .dataframe tbody tr th {\n",
       "        vertical-align: top;\n",
       "    }\n",
       "\n",
       "    .dataframe thead th {\n",
       "        text-align: right;\n",
       "    }\n",
       "</style>\n",
       "<table border=\"1\" class=\"dataframe\">\n",
       "  <thead>\n",
       "    <tr style=\"text-align: right;\">\n",
       "      <th></th>\n",
       "      <th>Unnamed: 0</th>\n",
       "      <th>cut</th>\n",
       "      <th>color</th>\n",
       "      <th>clarity</th>\n",
       "      <th>depth</th>\n",
       "      <th>table</th>\n",
       "      <th>price</th>\n",
       "      <th>x</th>\n",
       "      <th>y</th>\n",
       "      <th>z</th>\n",
       "    </tr>\n",
       "  </thead>\n",
       "  <tbody>\n",
       "    <tr>\n",
       "      <th>0</th>\n",
       "      <td>1</td>\n",
       "      <td>Ideal</td>\n",
       "      <td>E</td>\n",
       "      <td>SI2</td>\n",
       "      <td>61.5</td>\n",
       "      <td>55.0</td>\n",
       "      <td>326</td>\n",
       "      <td>3.95</td>\n",
       "      <td>3.98</td>\n",
       "      <td>2.43</td>\n",
       "    </tr>\n",
       "    <tr>\n",
       "      <th>2</th>\n",
       "      <td>3</td>\n",
       "      <td>Good</td>\n",
       "      <td>E</td>\n",
       "      <td>VS1</td>\n",
       "      <td>56.9</td>\n",
       "      <td>65.0</td>\n",
       "      <td>327</td>\n",
       "      <td>4.05</td>\n",
       "      <td>4.07</td>\n",
       "      <td>2.31</td>\n",
       "    </tr>\n",
       "    <tr>\n",
       "      <th>4</th>\n",
       "      <td>5</td>\n",
       "      <td>Good</td>\n",
       "      <td>J</td>\n",
       "      <td>SI2</td>\n",
       "      <td>63.3</td>\n",
       "      <td>58.0</td>\n",
       "      <td>335</td>\n",
       "      <td>4.34</td>\n",
       "      <td>4.35</td>\n",
       "      <td>2.75</td>\n",
       "    </tr>\n",
       "    <tr>\n",
       "      <th>5</th>\n",
       "      <td>6</td>\n",
       "      <td>Very Good</td>\n",
       "      <td>J</td>\n",
       "      <td>VVS2</td>\n",
       "      <td>62.8</td>\n",
       "      <td>57.0</td>\n",
       "      <td>336</td>\n",
       "      <td>3.94</td>\n",
       "      <td>3.96</td>\n",
       "      <td>2.48</td>\n",
       "    </tr>\n",
       "    <tr>\n",
       "      <th>6</th>\n",
       "      <td>7</td>\n",
       "      <td>Very Good</td>\n",
       "      <td>I</td>\n",
       "      <td>VVS1</td>\n",
       "      <td>62.3</td>\n",
       "      <td>57.0</td>\n",
       "      <td>336</td>\n",
       "      <td>3.95</td>\n",
       "      <td>3.98</td>\n",
       "      <td>2.47</td>\n",
       "    </tr>\n",
       "    <tr>\n",
       "      <th>...</th>\n",
       "      <td>...</td>\n",
       "      <td>...</td>\n",
       "      <td>...</td>\n",
       "      <td>...</td>\n",
       "      <td>...</td>\n",
       "      <td>...</td>\n",
       "      <td>...</td>\n",
       "      <td>...</td>\n",
       "      <td>...</td>\n",
       "      <td>...</td>\n",
       "    </tr>\n",
       "    <tr>\n",
       "      <th>53935</th>\n",
       "      <td>53936</td>\n",
       "      <td>Ideal</td>\n",
       "      <td>D</td>\n",
       "      <td>SI1</td>\n",
       "      <td>60.8</td>\n",
       "      <td>57.0</td>\n",
       "      <td>2757</td>\n",
       "      <td>5.75</td>\n",
       "      <td>5.76</td>\n",
       "      <td>3.50</td>\n",
       "    </tr>\n",
       "    <tr>\n",
       "      <th>53936</th>\n",
       "      <td>53937</td>\n",
       "      <td>Good</td>\n",
       "      <td>D</td>\n",
       "      <td>SI1</td>\n",
       "      <td>63.1</td>\n",
       "      <td>55.0</td>\n",
       "      <td>2757</td>\n",
       "      <td>5.69</td>\n",
       "      <td>5.75</td>\n",
       "      <td>3.61</td>\n",
       "    </tr>\n",
       "    <tr>\n",
       "      <th>53937</th>\n",
       "      <td>53938</td>\n",
       "      <td>Very Good</td>\n",
       "      <td>D</td>\n",
       "      <td>SI1</td>\n",
       "      <td>62.8</td>\n",
       "      <td>60.0</td>\n",
       "      <td>2757</td>\n",
       "      <td>5.66</td>\n",
       "      <td>5.68</td>\n",
       "      <td>3.56</td>\n",
       "    </tr>\n",
       "    <tr>\n",
       "      <th>53938</th>\n",
       "      <td>53939</td>\n",
       "      <td>Premium</td>\n",
       "      <td>H</td>\n",
       "      <td>SI2</td>\n",
       "      <td>61.0</td>\n",
       "      <td>58.0</td>\n",
       "      <td>2757</td>\n",
       "      <td>6.15</td>\n",
       "      <td>6.12</td>\n",
       "      <td>3.74</td>\n",
       "    </tr>\n",
       "    <tr>\n",
       "      <th>53939</th>\n",
       "      <td>53940</td>\n",
       "      <td>Ideal</td>\n",
       "      <td>D</td>\n",
       "      <td>SI2</td>\n",
       "      <td>62.2</td>\n",
       "      <td>55.0</td>\n",
       "      <td>2757</td>\n",
       "      <td>5.83</td>\n",
       "      <td>5.87</td>\n",
       "      <td>3.64</td>\n",
       "    </tr>\n",
       "  </tbody>\n",
       "</table>\n",
       "<p>53938 rows × 10 columns</p>\n",
       "</div>"
      ],
      "text/plain": [
       "       Unnamed: 0        cut color clarity  depth  table  price     x     y  \\\n",
       "0               1      Ideal     E     SI2   61.5   55.0    326  3.95  3.98   \n",
       "2               3       Good     E     VS1   56.9   65.0    327  4.05  4.07   \n",
       "4               5       Good     J     SI2   63.3   58.0    335  4.34  4.35   \n",
       "5               6  Very Good     J    VVS2   62.8   57.0    336  3.94  3.96   \n",
       "6               7  Very Good     I    VVS1   62.3   57.0    336  3.95  3.98   \n",
       "...           ...        ...   ...     ...    ...    ...    ...   ...   ...   \n",
       "53935       53936      Ideal     D     SI1   60.8   57.0   2757  5.75  5.76   \n",
       "53936       53937       Good     D     SI1   63.1   55.0   2757  5.69  5.75   \n",
       "53937       53938  Very Good     D     SI1   62.8   60.0   2757  5.66  5.68   \n",
       "53938       53939    Premium     H     SI2   61.0   58.0   2757  6.15  6.12   \n",
       "53939       53940      Ideal     D     SI2   62.2   55.0   2757  5.83  5.87   \n",
       "\n",
       "          z  \n",
       "0      2.43  \n",
       "2      2.31  \n",
       "4      2.75  \n",
       "5      2.48  \n",
       "6      2.47  \n",
       "...     ...  \n",
       "53935  3.50  \n",
       "53936  3.61  \n",
       "53937  3.56  \n",
       "53938  3.74  \n",
       "53939  3.64  \n",
       "\n",
       "[53938 rows x 10 columns]"
      ]
     },
     "execution_count": 3,
     "metadata": {},
     "output_type": "execute_result"
    }
   ],
   "source": [
    "# Remove multiple rows (e.g., indices 1 and 3)\n",
    "rows_to_remove = [1, 3]\n",
    "diamonds_df_filtered = diamonds_df.drop(rows_to_remove, axis=0)\n",
    "\n",
    "# Display the updated DataFrame\n",
    "diamonds_df_filtered"
   ]
  },
  {
   "cell_type": "markdown",
   "metadata": {
    "id": "1ivZW6tqnRKL"
   },
   "source": [
    "###### 5. Write a Pandas program to sort the 'cut' Series in ascending order (returns a Series) of diamonds Dataframe. "
   ]
  },
  {
   "cell_type": "code",
   "execution_count": 4,
   "metadata": {
    "id": "KUgjKfuAmcZr"
   },
   "outputs": [
    {
     "data": {
      "text/plain": [
       "3850          Fair\n",
       "51464         Fair\n",
       "51466         Fair\n",
       "10237         Fair\n",
       "10760         Fair\n",
       "           ...    \n",
       "7402     Very Good\n",
       "43101    Very Good\n",
       "16893    Very Good\n",
       "16898    Very Good\n",
       "21164    Very Good\n",
       "Name: cut, Length: 53940, dtype: object"
      ]
     },
     "execution_count": 4,
     "metadata": {},
     "output_type": "execute_result"
    }
   ],
   "source": [
    "# Sort the 'cut' Series in ascending order\n",
    "sorted_cut_series = diamonds_df['cut'].sort_values()\n",
    "\n",
    "# Display the sorted Series\n",
    "sorted_cut_series"
   ]
  },
  {
   "cell_type": "markdown",
   "metadata": {
    "id": "BCvcHa28nl7D"
   },
   "source": [
    "###### 6. Write a Pandas program to sort the entire diamonds DataFrame by the 'carat' Series in ascending and descending order."
   ]
  },
  {
   "cell_type": "code",
   "execution_count": 5,
   "metadata": {
    "id": "GwfuqL1MmccL"
   },
   "outputs": [
    {
     "name": "stdout",
     "output_type": "stream",
     "text": [
      "Sorted by 'carat' in Ascending Order:\n",
      "       Unnamed: 0  carat      cut color clarity  depth  table  price      x  \\\n",
      "31593       31594   0.20  Premium     E     VS2   61.1   59.0    367   3.81   \n",
      "31597       31598   0.20    Ideal     D     VS2   61.5   57.0    367   3.81   \n",
      "31596       31597   0.20  Premium     F     VS2   62.6   59.0    367   3.73   \n",
      "31595       31596   0.20    Ideal     E     VS2   59.7   55.0    367   3.86   \n",
      "31594       31595   0.20  Premium     E     VS2   59.7   62.0    367   3.84   \n",
      "...           ...    ...      ...   ...     ...    ...    ...    ...    ...   \n",
      "25999       26000   4.01  Premium     J      I1   62.5   62.0  15223  10.02   \n",
      "25998       25999   4.01  Premium     I      I1   61.0   61.0  15223  10.14   \n",
      "27130       27131   4.13     Fair     H      I1   64.8   61.0  17329  10.00   \n",
      "27630       27631   4.50     Fair     J      I1   65.8   58.0  18531  10.23   \n",
      "27415       27416   5.01     Fair     J      I1   65.5   59.0  18018  10.74   \n",
      "\n",
      "           y     z  \n",
      "31593   3.78  2.32  \n",
      "31597   3.77  2.33  \n",
      "31596   3.71  2.33  \n",
      "31595   3.84  2.30  \n",
      "31594   3.80  2.28  \n",
      "...      ...   ...  \n",
      "25999   9.94  6.24  \n",
      "25998  10.10  6.17  \n",
      "27130   9.85  6.43  \n",
      "27630  10.16  6.72  \n",
      "27415  10.54  6.98  \n",
      "\n",
      "[53940 rows x 11 columns]\n",
      "\n",
      "Sorted by 'carat' in Descending Order:\n",
      "       Unnamed: 0  carat      cut color clarity  depth  table  price      x  \\\n",
      "27415       27416   5.01     Fair     J      I1   65.5   59.0  18018  10.74   \n",
      "27630       27631   4.50     Fair     J      I1   65.8   58.0  18531  10.23   \n",
      "27130       27131   4.13     Fair     H      I1   64.8   61.0  17329  10.00   \n",
      "25999       26000   4.01  Premium     J      I1   62.5   62.0  15223  10.02   \n",
      "25998       25999   4.01  Premium     I      I1   61.0   61.0  15223  10.14   \n",
      "...           ...    ...      ...   ...     ...    ...    ...    ...    ...   \n",
      "31592       31593   0.20  Premium     E     VS2   59.0   60.0    367   3.81   \n",
      "31591       31592   0.20  Premium     E     VS2   59.8   62.0    367   3.79   \n",
      "31601       31602   0.20  Premium     D     VS2   61.7   60.0    367   3.77   \n",
      "14             15   0.20  Premium     E     SI2   60.2   62.0    345   3.79   \n",
      "31596       31597   0.20  Premium     F     VS2   62.6   59.0    367   3.73   \n",
      "\n",
      "           y     z  \n",
      "27415  10.54  6.98  \n",
      "27630  10.16  6.72  \n",
      "27130   9.85  6.43  \n",
      "25999   9.94  6.24  \n",
      "25998  10.10  6.17  \n",
      "...      ...   ...  \n",
      "31592   3.78  2.24  \n",
      "31591   3.77  2.26  \n",
      "31601   3.72  2.31  \n",
      "14      3.75  2.27  \n",
      "31596   3.71  2.33  \n",
      "\n",
      "[53940 rows x 11 columns]\n"
     ]
    }
   ],
   "source": [
    "diamonds_df = pd.read_csv('diamonds.csv')\n",
    "\n",
    "# Sort the entire DataFrame by 'carat' in ascending order\n",
    "sorted_diamonds_asc = diamonds_df.sort_values(by='carat', ascending=True)\n",
    "\n",
    "# Sort the entire DataFrame by 'carat' in descending order\n",
    "sorted_diamonds_desc = diamonds_df.sort_values(by='carat', ascending=False)\n",
    "\n",
    "# Display the sorted DataFrames\n",
    "print(\"Sorted by 'carat' in Ascending Order:\")\n",
    "print(sorted_diamonds_asc)\n",
    "\n",
    "print(\"\\nSorted by 'carat' in Descending Order:\")\n",
    "print(sorted_diamonds_desc)"
   ]
  },
  {
   "cell_type": "markdown",
   "metadata": {
    "id": "cSpCOh8coK6r"
   },
   "source": [
    "###### 7. Write a Pandas program to filter the DataFrame rows to only show carat weight at least 0.3."
   ]
  },
  {
   "cell_type": "code",
   "execution_count": 6,
   "metadata": {
    "id": "AgdZqV1Pmcey"
   },
   "outputs": [
    {
     "data": {
      "text/html": [
       "<div>\n",
       "<style scoped>\n",
       "    .dataframe tbody tr th:only-of-type {\n",
       "        vertical-align: middle;\n",
       "    }\n",
       "\n",
       "    .dataframe tbody tr th {\n",
       "        vertical-align: top;\n",
       "    }\n",
       "\n",
       "    .dataframe thead th {\n",
       "        text-align: right;\n",
       "    }\n",
       "</style>\n",
       "<table border=\"1\" class=\"dataframe\">\n",
       "  <thead>\n",
       "    <tr style=\"text-align: right;\">\n",
       "      <th></th>\n",
       "      <th>Unnamed: 0</th>\n",
       "      <th>carat</th>\n",
       "      <th>cut</th>\n",
       "      <th>color</th>\n",
       "      <th>clarity</th>\n",
       "      <th>depth</th>\n",
       "      <th>table</th>\n",
       "      <th>price</th>\n",
       "      <th>x</th>\n",
       "      <th>y</th>\n",
       "      <th>z</th>\n",
       "    </tr>\n",
       "  </thead>\n",
       "  <tbody>\n",
       "    <tr>\n",
       "      <th>4</th>\n",
       "      <td>5</td>\n",
       "      <td>0.31</td>\n",
       "      <td>Good</td>\n",
       "      <td>J</td>\n",
       "      <td>SI2</td>\n",
       "      <td>63.3</td>\n",
       "      <td>58.0</td>\n",
       "      <td>335</td>\n",
       "      <td>4.34</td>\n",
       "      <td>4.35</td>\n",
       "      <td>2.75</td>\n",
       "    </tr>\n",
       "    <tr>\n",
       "      <th>10</th>\n",
       "      <td>11</td>\n",
       "      <td>0.30</td>\n",
       "      <td>Good</td>\n",
       "      <td>J</td>\n",
       "      <td>SI1</td>\n",
       "      <td>64.0</td>\n",
       "      <td>55.0</td>\n",
       "      <td>339</td>\n",
       "      <td>4.25</td>\n",
       "      <td>4.28</td>\n",
       "      <td>2.73</td>\n",
       "    </tr>\n",
       "    <tr>\n",
       "      <th>13</th>\n",
       "      <td>14</td>\n",
       "      <td>0.31</td>\n",
       "      <td>Ideal</td>\n",
       "      <td>J</td>\n",
       "      <td>SI2</td>\n",
       "      <td>62.2</td>\n",
       "      <td>54.0</td>\n",
       "      <td>344</td>\n",
       "      <td>4.35</td>\n",
       "      <td>4.37</td>\n",
       "      <td>2.71</td>\n",
       "    </tr>\n",
       "    <tr>\n",
       "      <th>15</th>\n",
       "      <td>16</td>\n",
       "      <td>0.32</td>\n",
       "      <td>Premium</td>\n",
       "      <td>E</td>\n",
       "      <td>I1</td>\n",
       "      <td>60.9</td>\n",
       "      <td>58.0</td>\n",
       "      <td>345</td>\n",
       "      <td>4.38</td>\n",
       "      <td>4.42</td>\n",
       "      <td>2.68</td>\n",
       "    </tr>\n",
       "    <tr>\n",
       "      <th>16</th>\n",
       "      <td>17</td>\n",
       "      <td>0.30</td>\n",
       "      <td>Ideal</td>\n",
       "      <td>I</td>\n",
       "      <td>SI2</td>\n",
       "      <td>62.0</td>\n",
       "      <td>54.0</td>\n",
       "      <td>348</td>\n",
       "      <td>4.31</td>\n",
       "      <td>4.34</td>\n",
       "      <td>2.68</td>\n",
       "    </tr>\n",
       "    <tr>\n",
       "      <th>...</th>\n",
       "      <td>...</td>\n",
       "      <td>...</td>\n",
       "      <td>...</td>\n",
       "      <td>...</td>\n",
       "      <td>...</td>\n",
       "      <td>...</td>\n",
       "      <td>...</td>\n",
       "      <td>...</td>\n",
       "      <td>...</td>\n",
       "      <td>...</td>\n",
       "      <td>...</td>\n",
       "    </tr>\n",
       "    <tr>\n",
       "      <th>53935</th>\n",
       "      <td>53936</td>\n",
       "      <td>0.72</td>\n",
       "      <td>Ideal</td>\n",
       "      <td>D</td>\n",
       "      <td>SI1</td>\n",
       "      <td>60.8</td>\n",
       "      <td>57.0</td>\n",
       "      <td>2757</td>\n",
       "      <td>5.75</td>\n",
       "      <td>5.76</td>\n",
       "      <td>3.50</td>\n",
       "    </tr>\n",
       "    <tr>\n",
       "      <th>53936</th>\n",
       "      <td>53937</td>\n",
       "      <td>0.72</td>\n",
       "      <td>Good</td>\n",
       "      <td>D</td>\n",
       "      <td>SI1</td>\n",
       "      <td>63.1</td>\n",
       "      <td>55.0</td>\n",
       "      <td>2757</td>\n",
       "      <td>5.69</td>\n",
       "      <td>5.75</td>\n",
       "      <td>3.61</td>\n",
       "    </tr>\n",
       "    <tr>\n",
       "      <th>53937</th>\n",
       "      <td>53938</td>\n",
       "      <td>0.70</td>\n",
       "      <td>Very Good</td>\n",
       "      <td>D</td>\n",
       "      <td>SI1</td>\n",
       "      <td>62.8</td>\n",
       "      <td>60.0</td>\n",
       "      <td>2757</td>\n",
       "      <td>5.66</td>\n",
       "      <td>5.68</td>\n",
       "      <td>3.56</td>\n",
       "    </tr>\n",
       "    <tr>\n",
       "      <th>53938</th>\n",
       "      <td>53939</td>\n",
       "      <td>0.86</td>\n",
       "      <td>Premium</td>\n",
       "      <td>H</td>\n",
       "      <td>SI2</td>\n",
       "      <td>61.0</td>\n",
       "      <td>58.0</td>\n",
       "      <td>2757</td>\n",
       "      <td>6.15</td>\n",
       "      <td>6.12</td>\n",
       "      <td>3.74</td>\n",
       "    </tr>\n",
       "    <tr>\n",
       "      <th>53939</th>\n",
       "      <td>53940</td>\n",
       "      <td>0.75</td>\n",
       "      <td>Ideal</td>\n",
       "      <td>D</td>\n",
       "      <td>SI2</td>\n",
       "      <td>62.2</td>\n",
       "      <td>55.0</td>\n",
       "      <td>2757</td>\n",
       "      <td>5.83</td>\n",
       "      <td>5.87</td>\n",
       "      <td>3.64</td>\n",
       "    </tr>\n",
       "  </tbody>\n",
       "</table>\n",
       "<p>52341 rows × 11 columns</p>\n",
       "</div>"
      ],
      "text/plain": [
       "       Unnamed: 0  carat        cut color clarity  depth  table  price     x  \\\n",
       "4               5   0.31       Good     J     SI2   63.3   58.0    335  4.34   \n",
       "10             11   0.30       Good     J     SI1   64.0   55.0    339  4.25   \n",
       "13             14   0.31      Ideal     J     SI2   62.2   54.0    344  4.35   \n",
       "15             16   0.32    Premium     E      I1   60.9   58.0    345  4.38   \n",
       "16             17   0.30      Ideal     I     SI2   62.0   54.0    348  4.31   \n",
       "...           ...    ...        ...   ...     ...    ...    ...    ...   ...   \n",
       "53935       53936   0.72      Ideal     D     SI1   60.8   57.0   2757  5.75   \n",
       "53936       53937   0.72       Good     D     SI1   63.1   55.0   2757  5.69   \n",
       "53937       53938   0.70  Very Good     D     SI1   62.8   60.0   2757  5.66   \n",
       "53938       53939   0.86    Premium     H     SI2   61.0   58.0   2757  6.15   \n",
       "53939       53940   0.75      Ideal     D     SI2   62.2   55.0   2757  5.83   \n",
       "\n",
       "          y     z  \n",
       "4      4.35  2.75  \n",
       "10     4.28  2.73  \n",
       "13     4.37  2.71  \n",
       "15     4.42  2.68  \n",
       "16     4.34  2.68  \n",
       "...     ...   ...  \n",
       "53935  5.76  3.50  \n",
       "53936  5.75  3.61  \n",
       "53937  5.68  3.56  \n",
       "53938  6.12  3.74  \n",
       "53939  5.87  3.64  \n",
       "\n",
       "[52341 rows x 11 columns]"
      ]
     },
     "execution_count": 6,
     "metadata": {},
     "output_type": "execute_result"
    }
   ],
   "source": [
    "# Filter rows with carat weight at least 0.3\n",
    "filtered_diamonds_df = diamonds_df[diamonds_df['carat'] >= 0.3]\n",
    "\n",
    "# Display the filtered DataFrame\n",
    "filtered_diamonds_df"
   ]
  },
  {
   "cell_type": "markdown",
   "metadata": {
    "id": "4FpU9oyLoXJs"
   },
   "source": [
    "###### 8.  Write a Pandas program to find the details of the diamonds where length>5, width>5 and depth>5."
   ]
  },
  {
   "cell_type": "code",
   "execution_count": 7,
   "metadata": {
    "id": "XNKHLmjzmchr"
   },
   "outputs": [
    {
     "data": {
      "text/html": [
       "<div>\n",
       "<style scoped>\n",
       "    .dataframe tbody tr th:only-of-type {\n",
       "        vertical-align: middle;\n",
       "    }\n",
       "\n",
       "    .dataframe tbody tr th {\n",
       "        vertical-align: top;\n",
       "    }\n",
       "\n",
       "    .dataframe thead th {\n",
       "        text-align: right;\n",
       "    }\n",
       "</style>\n",
       "<table border=\"1\" class=\"dataframe\">\n",
       "  <thead>\n",
       "    <tr style=\"text-align: right;\">\n",
       "      <th></th>\n",
       "      <th>Unnamed: 0</th>\n",
       "      <th>carat</th>\n",
       "      <th>cut</th>\n",
       "      <th>color</th>\n",
       "      <th>clarity</th>\n",
       "      <th>depth</th>\n",
       "      <th>table</th>\n",
       "      <th>price</th>\n",
       "      <th>x</th>\n",
       "      <th>y</th>\n",
       "      <th>z</th>\n",
       "    </tr>\n",
       "  </thead>\n",
       "  <tbody>\n",
       "    <tr>\n",
       "      <th>11778</th>\n",
       "      <td>11779</td>\n",
       "      <td>1.83</td>\n",
       "      <td>Fair</td>\n",
       "      <td>J</td>\n",
       "      <td>I1</td>\n",
       "      <td>70.0</td>\n",
       "      <td>58.0</td>\n",
       "      <td>5083</td>\n",
       "      <td>7.34</td>\n",
       "      <td>7.28</td>\n",
       "      <td>5.12</td>\n",
       "    </tr>\n",
       "    <tr>\n",
       "      <th>13002</th>\n",
       "      <td>13003</td>\n",
       "      <td>2.14</td>\n",
       "      <td>Fair</td>\n",
       "      <td>J</td>\n",
       "      <td>I1</td>\n",
       "      <td>69.4</td>\n",
       "      <td>57.0</td>\n",
       "      <td>5405</td>\n",
       "      <td>7.74</td>\n",
       "      <td>7.70</td>\n",
       "      <td>5.36</td>\n",
       "    </tr>\n",
       "    <tr>\n",
       "      <th>13118</th>\n",
       "      <td>13119</td>\n",
       "      <td>2.15</td>\n",
       "      <td>Fair</td>\n",
       "      <td>J</td>\n",
       "      <td>I1</td>\n",
       "      <td>65.5</td>\n",
       "      <td>57.0</td>\n",
       "      <td>5430</td>\n",
       "      <td>8.01</td>\n",
       "      <td>7.95</td>\n",
       "      <td>5.23</td>\n",
       "    </tr>\n",
       "    <tr>\n",
       "      <th>13562</th>\n",
       "      <td>13563</td>\n",
       "      <td>1.96</td>\n",
       "      <td>Fair</td>\n",
       "      <td>F</td>\n",
       "      <td>I1</td>\n",
       "      <td>66.6</td>\n",
       "      <td>60.0</td>\n",
       "      <td>5554</td>\n",
       "      <td>7.59</td>\n",
       "      <td>7.56</td>\n",
       "      <td>5.04</td>\n",
       "    </tr>\n",
       "    <tr>\n",
       "      <th>13757</th>\n",
       "      <td>13758</td>\n",
       "      <td>2.22</td>\n",
       "      <td>Fair</td>\n",
       "      <td>J</td>\n",
       "      <td>I1</td>\n",
       "      <td>66.7</td>\n",
       "      <td>56.0</td>\n",
       "      <td>5607</td>\n",
       "      <td>8.04</td>\n",
       "      <td>8.02</td>\n",
       "      <td>5.36</td>\n",
       "    </tr>\n",
       "    <tr>\n",
       "      <th>...</th>\n",
       "      <td>...</td>\n",
       "      <td>...</td>\n",
       "      <td>...</td>\n",
       "      <td>...</td>\n",
       "      <td>...</td>\n",
       "      <td>...</td>\n",
       "      <td>...</td>\n",
       "      <td>...</td>\n",
       "      <td>...</td>\n",
       "      <td>...</td>\n",
       "      <td>...</td>\n",
       "    </tr>\n",
       "    <tr>\n",
       "      <th>27748</th>\n",
       "      <td>27749</td>\n",
       "      <td>2.00</td>\n",
       "      <td>Very Good</td>\n",
       "      <td>G</td>\n",
       "      <td>SI1</td>\n",
       "      <td>63.5</td>\n",
       "      <td>56.0</td>\n",
       "      <td>18818</td>\n",
       "      <td>7.90</td>\n",
       "      <td>7.97</td>\n",
       "      <td>5.04</td>\n",
       "    </tr>\n",
       "    <tr>\n",
       "      <th>27749</th>\n",
       "      <td>27750</td>\n",
       "      <td>2.29</td>\n",
       "      <td>Premium</td>\n",
       "      <td>I</td>\n",
       "      <td>VS2</td>\n",
       "      <td>60.8</td>\n",
       "      <td>60.0</td>\n",
       "      <td>18823</td>\n",
       "      <td>8.50</td>\n",
       "      <td>8.47</td>\n",
       "      <td>5.16</td>\n",
       "    </tr>\n",
       "    <tr>\n",
       "      <th>48410</th>\n",
       "      <td>48411</td>\n",
       "      <td>0.51</td>\n",
       "      <td>Very Good</td>\n",
       "      <td>E</td>\n",
       "      <td>VS1</td>\n",
       "      <td>61.8</td>\n",
       "      <td>54.7</td>\n",
       "      <td>1970</td>\n",
       "      <td>5.12</td>\n",
       "      <td>5.15</td>\n",
       "      <td>31.80</td>\n",
       "    </tr>\n",
       "    <tr>\n",
       "      <th>49189</th>\n",
       "      <td>49190</td>\n",
       "      <td>0.51</td>\n",
       "      <td>Ideal</td>\n",
       "      <td>E</td>\n",
       "      <td>VS1</td>\n",
       "      <td>61.8</td>\n",
       "      <td>55.0</td>\n",
       "      <td>2075</td>\n",
       "      <td>5.15</td>\n",
       "      <td>31.80</td>\n",
       "      <td>5.12</td>\n",
       "    </tr>\n",
       "    <tr>\n",
       "      <th>49905</th>\n",
       "      <td>49906</td>\n",
       "      <td>0.50</td>\n",
       "      <td>Very Good</td>\n",
       "      <td>G</td>\n",
       "      <td>VVS1</td>\n",
       "      <td>63.7</td>\n",
       "      <td>58.0</td>\n",
       "      <td>2180</td>\n",
       "      <td>5.01</td>\n",
       "      <td>5.04</td>\n",
       "      <td>5.06</td>\n",
       "    </tr>\n",
       "  </tbody>\n",
       "</table>\n",
       "<p>1457 rows × 11 columns</p>\n",
       "</div>"
      ],
      "text/plain": [
       "       Unnamed: 0  carat        cut color clarity  depth  table  price     x  \\\n",
       "11778       11779   1.83       Fair     J      I1   70.0   58.0   5083  7.34   \n",
       "13002       13003   2.14       Fair     J      I1   69.4   57.0   5405  7.74   \n",
       "13118       13119   2.15       Fair     J      I1   65.5   57.0   5430  8.01   \n",
       "13562       13563   1.96       Fair     F      I1   66.6   60.0   5554  7.59   \n",
       "13757       13758   2.22       Fair     J      I1   66.7   56.0   5607  8.04   \n",
       "...           ...    ...        ...   ...     ...    ...    ...    ...   ...   \n",
       "27748       27749   2.00  Very Good     G     SI1   63.5   56.0  18818  7.90   \n",
       "27749       27750   2.29    Premium     I     VS2   60.8   60.0  18823  8.50   \n",
       "48410       48411   0.51  Very Good     E     VS1   61.8   54.7   1970  5.12   \n",
       "49189       49190   0.51      Ideal     E     VS1   61.8   55.0   2075  5.15   \n",
       "49905       49906   0.50  Very Good     G    VVS1   63.7   58.0   2180  5.01   \n",
       "\n",
       "           y      z  \n",
       "11778   7.28   5.12  \n",
       "13002   7.70   5.36  \n",
       "13118   7.95   5.23  \n",
       "13562   7.56   5.04  \n",
       "13757   8.02   5.36  \n",
       "...      ...    ...  \n",
       "27748   7.97   5.04  \n",
       "27749   8.47   5.16  \n",
       "48410   5.15  31.80  \n",
       "49189  31.80   5.12  \n",
       "49905   5.04   5.06  \n",
       "\n",
       "[1457 rows x 11 columns]"
      ]
     },
     "execution_count": 7,
     "metadata": {},
     "output_type": "execute_result"
    }
   ],
   "source": [
    "# Filter rows based on conditions\n",
    "filtered_diamonds_df = diamonds_df[(diamonds_df['x'] > 5) & (diamonds_df['y'] > 5) & (diamonds_df['z'] > 5)]\n",
    "\n",
    "# Display the details of filtered diamonds\n",
    "filtered_diamonds_df"
   ]
  },
  {
   "cell_type": "markdown",
   "metadata": {
    "id": "y351ifPOp772"
   },
   "source": [
    "###### 9. Write a Pandas program to calculate the mean of each row of diamonds DataFrame."
   ]
  },
  {
   "cell_type": "code",
   "execution_count": 8,
   "metadata": {
    "id": "cmcg9Jy0oazK"
   },
   "outputs": [
    {
     "name": "stdout",
     "output_type": "stream",
     "text": [
      "0          56.76125\n",
      "1          57.38125\n",
      "2          57.82000\n",
      "3          58.71875\n",
      "4          59.13125\n",
      "            ...    \n",
      "53935    7103.31625\n",
      "53936    7103.48375\n",
      "53937    7104.17500\n",
      "53938    7103.98375\n",
      "53939    7103.78625\n",
      "Length: 53940, dtype: float64\n"
     ]
    }
   ],
   "source": [
    "# Exclude non-numeric columns\n",
    "numeric_columns = diamonds_df.select_dtypes(include=['float64', 'int64'])\n",
    "\n",
    "# Calculate the mean of each row\n",
    "row_means = numeric_columns.mean(axis=1)\n",
    "\n",
    "# Display the mean values\n",
    "print(row_means)"
   ]
  },
  {
   "cell_type": "markdown",
   "metadata": {
    "id": "Gp_gDhj_qXm9"
   },
   "source": [
    "###### 10. Write a Pandas program to calculate the mean of price for each cut  and find maximum top 3 of diamonds DataFrame. "
   ]
  },
  {
   "cell_type": "code",
   "execution_count": 9,
   "metadata": {
    "id": "0Ka1Xpaioa1s"
   },
   "outputs": [
    {
     "name": "stdout",
     "output_type": "stream",
     "text": [
      "Mean price for each cut:\n",
      "cut\n",
      "Fair         4358.757764\n",
      "Good         3928.864452\n",
      "Ideal        3457.541970\n",
      "Premium      4584.257704\n",
      "Very Good    3981.759891\n",
      "Name: price, dtype: float64\n",
      "\n",
      "Top 3 maximum values:\n",
      "cut\n",
      "Premium      4584.257704\n",
      "Fair         4358.757764\n",
      "Very Good    3981.759891\n",
      "Name: price, dtype: float64\n"
     ]
    }
   ],
   "source": [
    "# Group by 'cut' and calculate the mean of 'price' for each group\n",
    "cut_price_mean = diamonds_df.groupby('cut')['price'].mean()\n",
    "\n",
    "# Find the top 3 maximum values\n",
    "top_3_max = cut_price_mean.nlargest(3)\n",
    "\n",
    "# Display the mean price for each cut and the top 3 maximum values\n",
    "print(\"Mean price for each cut:\")\n",
    "print(cut_price_mean)\n",
    "\n",
    "print(\"\\nTop 3 maximum values:\")\n",
    "print(top_3_max)"
   ]
  },
  {
   "cell_type": "markdown",
   "metadata": {
    "id": "puSNBUFWqp6c"
   },
   "source": [
    "##### 11. Write a Pandas program to calculate count, minimum, maximum price for each cut of diamonds DataFrame."
   ]
  },
  {
   "cell_type": "code",
   "execution_count": 10,
   "metadata": {
    "id": "6lviyQH7oa4W"
   },
   "outputs": [
    {
     "name": "stdout",
     "output_type": "stream",
     "text": [
      "Count, Minimum, and Maximum price for each cut:\n",
      "           count  min    max\n",
      "cut                         \n",
      "Fair        1610  337  18574\n",
      "Good        4906  327  18788\n",
      "Ideal      21551  326  18806\n",
      "Premium    13791  326  18823\n",
      "Very Good  12082  336  18818\n"
     ]
    }
   ],
   "source": [
    "# Group by 'cut' and calculate count, minimum, and maximum price for each group\n",
    "cut_statistics = diamonds_df.groupby('cut')['price'].agg(['count', 'min', 'max'])\n",
    "\n",
    "# Display the count, minimum, and maximum price for each cut\n",
    "print(\"Count, Minimum, and Maximum price for each cut:\")\n",
    "print(cut_statistics)"
   ]
  },
  {
   "cell_type": "markdown",
   "metadata": {
    "id": "4yylPeGNq0DV"
   },
   "source": [
    "###### 12. Write a Pandas program to display and count the unique values in cut series of diamonds DataFrame."
   ]
  },
  {
   "cell_type": "code",
   "execution_count": 11,
   "metadata": {
    "id": "AZIo7d4zoa9c"
   },
   "outputs": [
    {
     "name": "stdout",
     "output_type": "stream",
     "text": [
      "Unique values and their counts in the 'cut' series:\n",
      "cut\n",
      "Ideal        21551\n",
      "Premium      13791\n",
      "Very Good    12082\n",
      "Good          4906\n",
      "Fair          1610\n",
      "Name: count, dtype: int64\n"
     ]
    }
   ],
   "source": [
    "# Display and count unique values in the 'cut' series\n",
    "cut_counts = diamonds_df['cut'].value_counts()\n",
    "\n",
    "# Display the unique values and their counts\n",
    "print(\"Unique values and their counts in the 'cut' series:\")\n",
    "print(cut_counts)"
   ]
  },
  {
   "cell_type": "markdown",
   "metadata": {
    "id": "Uc9HsMNOsZ-R"
   },
   "source": [
    "######13.  Write a Pandas program to count the number of missing values in each Series of diamonds DataFrame."
   ]
  },
  {
   "cell_type": "code",
   "execution_count": 12,
   "metadata": {
    "id": "9IQdRGXEobAE"
   },
   "outputs": [
    {
     "name": "stdout",
     "output_type": "stream",
     "text": [
      "Number of missing values in each Series:\n",
      "Unnamed: 0    0\n",
      "carat         0\n",
      "cut           0\n",
      "color         0\n",
      "clarity       0\n",
      "depth         0\n",
      "table         0\n",
      "price         0\n",
      "x             0\n",
      "y             0\n",
      "z             0\n",
      "dtype: int64\n"
     ]
    }
   ],
   "source": [
    "# Count the number of missing values in each Series\n",
    "missing_values_count = diamonds_df.isnull().sum()\n",
    "\n",
    "# Display the count of missing values\n",
    "print(\"Number of missing values in each Series:\")\n",
    "print(missing_values_count)"
   ]
  },
  {
   "cell_type": "markdown",
   "metadata": {
    "id": "cTnyI4_0tdj0"
   },
   "source": [
    "###### 14. Write a Pandas program to calculate the multiply of x, y and z for each cut of diamonds DataFrame."
   ]
  },
  {
   "cell_type": "code",
   "execution_count": 13,
   "metadata": {
    "id": "xb26UEm_obC8"
   },
   "outputs": [
    {
     "name": "stdout",
     "output_type": "stream",
     "text": [
      "DataFrame with the multiply_xyz column:\n",
      "       Unnamed: 0  carat        cut color clarity  depth  table  price     x  \\\n",
      "0               1   0.23      Ideal     E     SI2   61.5   55.0    326  3.95   \n",
      "1               2   0.21    Premium     E     SI1   59.8   61.0    326  3.89   \n",
      "2               3   0.23       Good     E     VS1   56.9   65.0    327  4.05   \n",
      "3               4   0.29    Premium     I     VS2   62.4   58.0    334  4.20   \n",
      "4               5   0.31       Good     J     SI2   63.3   58.0    335  4.34   \n",
      "...           ...    ...        ...   ...     ...    ...    ...    ...   ...   \n",
      "53935       53936   0.72      Ideal     D     SI1   60.8   57.0   2757  5.75   \n",
      "53936       53937   0.72       Good     D     SI1   63.1   55.0   2757  5.69   \n",
      "53937       53938   0.70  Very Good     D     SI1   62.8   60.0   2757  5.66   \n",
      "53938       53939   0.86    Premium     H     SI2   61.0   58.0   2757  6.15   \n",
      "53939       53940   0.75      Ideal     D     SI2   62.2   55.0   2757  5.83   \n",
      "\n",
      "          y     z  multiply_xyz  \n",
      "0      3.98  2.43     38.202030  \n",
      "1      3.84  2.31     34.505856  \n",
      "2      4.07  2.31     38.076885  \n",
      "3      4.23  2.63     46.724580  \n",
      "4      4.35  2.75     51.917250  \n",
      "...     ...   ...           ...  \n",
      "53935  5.76  3.50    115.920000  \n",
      "53936  5.75  3.61    118.110175  \n",
      "53937  5.68  3.56    114.449728  \n",
      "53938  6.12  3.74    140.766120  \n",
      "53939  5.87  3.64    124.568444  \n",
      "\n",
      "[53940 rows x 12 columns]\n"
     ]
    }
   ],
   "source": [
    "# Calculate the multiply of x, y, and z for each cut\n",
    "diamonds_df['multiply_xyz'] = diamonds_df['x'] * diamonds_df['y'] * diamonds_df['z']\n",
    "\n",
    "# Display the DataFrame with the new 'multiply_xyz' column\n",
    "print(\"DataFrame with the multiply_xyz column:\")\n",
    "print(diamonds_df)"
   ]
  },
  {
   "cell_type": "markdown",
   "metadata": {
    "id": "BJBqso15t3mV"
   },
   "source": [
    "##### 15. Write a Pandas program to read rows 0 through 2 (inclusive), columns ‘color’ and ‘price’ of diamonds DataFrame."
   ]
  },
  {
   "cell_type": "code",
   "execution_count": 14,
   "metadata": {
    "id": "IT5EQSs5obFr"
   },
   "outputs": [
    {
     "name": "stdout",
     "output_type": "stream",
     "text": [
      "Subset DataFrame:\n",
      "  color  price\n",
      "0     E    326\n",
      "1     E    326\n",
      "2     E    327\n"
     ]
    }
   ],
   "source": [
    "# Read specified rows and columns\n",
    "subset_df = diamonds_df.loc[0:2, ['color', 'price']]\n",
    "\n",
    "# Display the subset DataFrame\n",
    "print(\"Subset DataFrame:\")\n",
    "print(subset_df)"
   ]
  },
  {
   "cell_type": "markdown",
   "metadata": {
    "id": "9I0eio5nuFW9"
   },
   "source": [
    "###### 16. Write a Pandas program to read rows in positions 0 and 1, columns in positions 0 and 3 of diamonds DataFrame."
   ]
  },
  {
   "cell_type": "code",
   "execution_count": 15,
   "metadata": {
    "id": "fYJL0uu2tlD6"
   },
   "outputs": [
    {
     "name": "stdout",
     "output_type": "stream",
     "text": [
      "Subset DataFrame:\n",
      "   Unnamed: 0 color\n",
      "0           1     E\n",
      "1           2     E\n"
     ]
    }
   ],
   "source": [
    "# Read specified rows and columns using iloc\n",
    "subset_df = diamonds_df.iloc[[0, 1], [0, 3]]\n",
    "\n",
    "# Display the subset DataFrame\n",
    "print(\"Subset DataFrame:\")\n",
    "print(subset_df)"
   ]
  },
  {
   "cell_type": "markdown",
   "metadata": {
    "id": "hKD0G8KDuTWW"
   },
   "source": [
    "##### 17. Write a Pandas program to get randomly sample rows from diamonds DataFrame."
   ]
  },
  {
   "cell_type": "code",
   "execution_count": 16,
   "metadata": {
    "id": "8sVNHGChtlG0"
   },
   "outputs": [
    {
     "name": "stdout",
     "output_type": "stream",
     "text": [
      "Randomly sampled DataFrame:\n",
      "       Unnamed: 0  carat        cut color clarity  depth  table  price     x  \\\n",
      "37505       37506   0.46       Fair     F     SI1   66.3   56.0    984  4.86   \n",
      "1053         1054   0.25    Premium     F     VS1   61.2   59.0    558  4.05   \n",
      "53842       53843   0.71      Ideal     H    VVS1   62.0   57.0   2739  5.71   \n",
      "2158         2159   0.75      Ideal     E     SI2   62.6   55.0   3129  5.72   \n",
      "24670       24671   1.20  Very Good     E    VVS1   61.3   60.0  13015  6.77   \n",
      "...           ...    ...        ...   ...     ...    ...    ...    ...   ...   \n",
      "23236       23237   1.31      Ideal     G    VVS1   61.1   57.0  11247  7.06   \n",
      "31985       31986   0.30    Premium     F     VS2   61.4   60.0    776  4.30   \n",
      "3623         3624   0.73      Ideal     E     VS2   61.6   56.0   3429  5.80   \n",
      "22432       22433   1.71    Premium     H     VS1   62.1   59.0  10457  7.63   \n",
      "41518       41519   0.55  Very Good     I     VS2   58.5   62.2   1235  5.39   \n",
      "\n",
      "          y     z  multiply_xyz  \n",
      "37505  4.79  3.20     74.494080  \n",
      "1053   4.02  2.47     40.214070  \n",
      "53842  5.75  3.55    116.555375  \n",
      "2158   5.79  3.60    119.227680  \n",
      "24670  6.84  4.17    193.099356  \n",
      "...     ...   ...           ...  \n",
      "23236  7.01  4.30    212.809580  \n",
      "31985  4.27  2.63     48.289430  \n",
      "3623   5.82  3.58    120.846480  \n",
      "22432  7.55  4.71    271.326615  \n",
      "41518  5.40  3.16     91.974960  \n",
      "\n",
      "[53940 rows x 12 columns]\n"
     ]
    }
   ],
   "source": [
    "# Get a random sample of rows\n",
    "random_sample = diamonds_df.sample(frac=1)\n",
    "\n",
    "# Display the random sample DataFrame\n",
    "print(\"Randomly sampled DataFrame:\")\n",
    "print(random_sample)"
   ]
  },
  {
   "cell_type": "markdown",
   "metadata": {
    "id": "0hRG6-8Fugsl"
   },
   "source": [
    "###### 18. Write a Pandas program to get sample 75% of the diamonds DataFrame's rows without replacement and store the remaining 25% of the rows in another DataFrame."
   ]
  },
  {
   "cell_type": "code",
   "execution_count": 17,
   "metadata": {
    "id": "WRrlJ3gwtlJv"
   },
   "outputs": [
    {
     "name": "stdout",
     "output_type": "stream",
     "text": [
      "Sampled DataFrame (75%):\n",
      "       Unnamed: 0  carat        cut color clarity  depth  table  price     x  \\\n",
      "2714         2715   0.33      Ideal     H     SI1   61.7   55.0    564  4.43   \n",
      "14653       14654   1.20      Ideal     I     VS2   62.1   57.0   5914  6.78   \n",
      "52760       52761   0.62      Ideal     D     VS1   61.0   57.0   2562  5.51   \n",
      "48658       48659   0.34       Good     H     VS2   63.1   56.0    537  4.41   \n",
      "14812       14813   1.20      Ideal     E     SI2   62.5   55.0   5964  6.77   \n",
      "...           ...    ...        ...   ...     ...    ...    ...    ...   ...   \n",
      "27598       27599   2.50    Premium     I     SI2   59.0   60.0  18447  8.76   \n",
      "39036       39037   0.37      Ideal     G      IF   61.4   55.0   1056  4.63   \n",
      "21461       21462   1.55  Very Good     E     SI2   59.5   56.0   9557  7.56   \n",
      "11572       11573   1.02    Premium     F     SI1   59.2   58.0   5038  6.53   \n",
      "29372       29373   0.31    Premium     E     SI1   59.3   59.0    698  4.48   \n",
      "\n",
      "          y     z  multiply_xyz  \n",
      "2714   4.46  2.74     54.136372  \n",
      "14653  6.71  4.19    190.619022  \n",
      "52760  5.54  3.37    102.870598  \n",
      "48658  4.46  2.80     55.072080  \n",
      "14812  6.84  4.25    196.803900  \n",
      "...     ...   ...           ...  \n",
      "27598  8.89  5.21    405.736044  \n",
      "39036  4.66  2.85     61.491030  \n",
      "21461  7.59  4.51    258.785604  \n",
      "11572  6.50  3.86    163.837700  \n",
      "29372  4.42  2.64     52.276224  \n",
      "\n",
      "[40455 rows x 12 columns]\n",
      "\n",
      "Remaining DataFrame (25%):\n",
      "       Unnamed: 0  carat        cut color clarity  depth  table  price     x  \\\n",
      "9              10   0.23  Very Good     H     VS1   59.4   61.0    338  4.00   \n",
      "14             15   0.20    Premium     E     SI2   60.2   62.0    345  3.79   \n",
      "15             16   0.32    Premium     E      I1   60.9   58.0    345  4.38   \n",
      "18             19   0.30       Good     J     SI1   63.8   56.0    351  4.23   \n",
      "20             21   0.30       Good     I     SI2   63.3   56.0    351  4.26   \n",
      "...           ...    ...        ...   ...     ...    ...    ...    ...   ...   \n",
      "53926       53927   0.71      Ideal     E     SI1   61.9   56.0   2756  5.71   \n",
      "53928       53929   0.79    Premium     E     SI2   61.4   58.0   2756  6.03   \n",
      "53929       53930   0.71      Ideal     G     VS1   61.4   56.0   2756  5.76   \n",
      "53938       53939   0.86    Premium     H     SI2   61.0   58.0   2757  6.15   \n",
      "53939       53940   0.75      Ideal     D     SI2   62.2   55.0   2757  5.83   \n",
      "\n",
      "          y     z  multiply_xyz  \n",
      "9      4.05  2.39     38.718000  \n",
      "14     3.75  2.27     32.262375  \n",
      "15     4.42  2.68     51.883728  \n",
      "18     4.26  2.71     48.833658  \n",
      "20     4.30  2.71     49.641780  \n",
      "...     ...   ...           ...  \n",
      "53926  5.73  3.54    115.822782  \n",
      "53928  5.96  3.68    132.254784  \n",
      "53929  5.73  3.53    116.506944  \n",
      "53938  6.12  3.74    140.766120  \n",
      "53939  5.87  3.64    124.568444  \n",
      "\n",
      "[13485 rows x 12 columns]\n"
     ]
    }
   ],
   "source": [
    "# Get a sample of 75% without replacement\n",
    "sampled_df = diamonds_df.sample(frac=0.75, random_state=1)\n",
    "\n",
    "# Get the remaining 25%\n",
    "remaining_df = diamonds_df.drop(sampled_df.index)\n",
    "\n",
    "# Display the sampled and remaining DataFrames\n",
    "print(\"Sampled DataFrame (75%):\")\n",
    "print(sampled_df)\n",
    "print(\"\\nRemaining DataFrame (25%):\")\n",
    "print(remaining_df)"
   ]
  },
  {
   "cell_type": "markdown",
   "metadata": {
    "id": "R4cLt_TIu4rF"
   },
   "source": [
    "###### 19. Write a Pandas program to read the diamonds DataFrame and detect duplicate color."
   ]
  },
  {
   "cell_type": "code",
   "execution_count": 18,
   "metadata": {
    "id": "I0LQz9SkmckP"
   },
   "outputs": [
    {
     "name": "stdout",
     "output_type": "stream",
     "text": [
      "Rows with duplicate color:\n",
      "       Unnamed: 0  carat        cut color clarity  depth  table  price     x  \\\n",
      "1               2   0.21    Premium     E     SI1   59.8   61.0    326  3.89   \n",
      "2               3   0.23       Good     E     VS1   56.9   65.0    327  4.05   \n",
      "5               6   0.24  Very Good     J    VVS2   62.8   57.0    336  3.94   \n",
      "6               7   0.24  Very Good     I    VVS1   62.3   57.0    336  3.95   \n",
      "8               9   0.22       Fair     E     VS2   65.1   61.0    337  3.87   \n",
      "...           ...    ...        ...   ...     ...    ...    ...    ...   ...   \n",
      "53935       53936   0.72      Ideal     D     SI1   60.8   57.0   2757  5.75   \n",
      "53936       53937   0.72       Good     D     SI1   63.1   55.0   2757  5.69   \n",
      "53937       53938   0.70  Very Good     D     SI1   62.8   60.0   2757  5.66   \n",
      "53938       53939   0.86    Premium     H     SI2   61.0   58.0   2757  6.15   \n",
      "53939       53940   0.75      Ideal     D     SI2   62.2   55.0   2757  5.83   \n",
      "\n",
      "          y     z  multiply_xyz  \n",
      "1      3.84  2.31     34.505856  \n",
      "2      4.07  2.31     38.076885  \n",
      "5      3.96  2.48     38.693952  \n",
      "6      3.98  2.47     38.830870  \n",
      "8      3.78  2.49     36.425214  \n",
      "...     ...   ...           ...  \n",
      "53935  5.76  3.50    115.920000  \n",
      "53936  5.75  3.61    118.110175  \n",
      "53937  5.68  3.56    114.449728  \n",
      "53938  6.12  3.74    140.766120  \n",
      "53939  5.87  3.64    124.568444  \n",
      "\n",
      "[53933 rows x 12 columns]\n"
     ]
    }
   ],
   "source": [
    "# Detect duplicate values in the 'color' column\n",
    "duplicate_colors = diamonds_df['color'].duplicated()\n",
    "\n",
    "# Display the rows with duplicate colors\n",
    "print(\"Rows with duplicate color:\")\n",
    "print(diamonds_df[duplicate_colors])"
   ]
  },
  {
   "cell_type": "markdown",
   "metadata": {
    "id": "w1vDKDHcu8s_"
   },
   "source": [
    "###### 20. Write a Pandas program to count the duplicate rows of diamonds DataFrame."
   ]
  },
  {
   "cell_type": "code",
   "execution_count": 19,
   "metadata": {
    "id": "izBTT7LiuyKL"
   },
   "outputs": [
    {
     "name": "stdout",
     "output_type": "stream",
     "text": [
      "Number of duplicate rows: 0\n"
     ]
    }
   ],
   "source": [
    "# Count the duplicate rows\n",
    "duplicate_rows_count = diamonds_df.duplicated().sum()\n",
    "\n",
    "# Display the count of duplicate rows\n",
    "print(\"Number of duplicate rows:\", duplicate_rows_count)"
   ]
  }
 ],
 "metadata": {
  "colab": {
   "collapsed_sections": [],
   "name": "pandas_assignment_day_4.ipynb",
   "provenance": []
  },
  "kernelspec": {
   "display_name": "Python 3 (ipykernel)",
   "language": "python",
   "name": "python3"
  },
  "language_info": {
   "codemirror_mode": {
    "name": "ipython",
    "version": 3
   },
   "file_extension": ".py",
   "mimetype": "text/x-python",
   "name": "python",
   "nbconvert_exporter": "python",
   "pygments_lexer": "ipython3",
   "version": "3.11.5"
  }
 },
 "nbformat": 4,
 "nbformat_minor": 1
}
